{
 "cells": [
  {
   "cell_type": "code",
   "execution_count": 1,
   "id": "f25735ee",
   "metadata": {},
   "outputs": [
    {
     "name": "stdout",
     "output_type": "stream",
     "text": [
      "Enter the radius: 3\n",
      "28.259999999999998\n"
     ]
    }
   ],
   "source": [
    "radius = int(input(\"Enter the radius: \"))\n",
    "area = 3.14 * radius * radius\n",
    "print(area)"
   ]
  },
  {
   "cell_type": "code",
   "execution_count": 2,
   "id": "534276af",
   "metadata": {},
   "outputs": [
    {
     "name": "stdout",
     "output_type": "stream",
     "text": [
      "Enter the name: Anisha\n",
      "Enter the roll number: 21\n",
      "Enter the mark: 78\n",
      "Name: Anisha\n",
      "Roll No: 21\n",
      "Mark: 78\n"
     ]
    }
   ],
   "source": [
    "student_name = input(\"Enter the name: \")\n",
    "roll_number = int(input(\"Enter the roll number: \"))\n",
    "mark = int(input(\"Enter the mark: \"))\n",
    "print(\"Name: \" + student_name)\n",
    "print(\"Roll No: \" + str(roll_number))\n",
    "print(\"Mark: \" + str(mark))"
   ]
  },
  {
   "cell_type": "code",
   "execution_count": 3,
   "id": "c4254c5d",
   "metadata": {},
   "outputs": [
    {
     "name": "stdout",
     "output_type": "stream",
     "text": [
      "47 is the largest number\n"
     ]
    }
   ],
   "source": [
    "number_list = [12,3,47,10]\n",
    "print(str(max(number_list)) + \" is the largest number\")"
   ]
  },
  {
   "cell_type": "code",
   "execution_count": 4,
   "id": "83780dcc",
   "metadata": {},
   "outputs": [
    {
     "name": "stdout",
     "output_type": "stream",
     "text": [
      "Current Number 1 Previous Number 0 Sum: 1\n",
      "Current Number 2 Previous Number 1 Sum: 3\n",
      "Current Number 3 Previous Number 2 Sum: 5\n",
      "Current Number 4 Previous Number 3 Sum: 7\n",
      "Current Number 5 Previous Number 4 Sum: 9\n",
      "Current Number 6 Previous Number 5 Sum: 11\n",
      "Current Number 7 Previous Number 6 Sum: 13\n",
      "Current Number 8 Previous Number 7 Sum: 15\n",
      "Current Number 9 Previous Number 8 Sum: 17\n",
      "Current Number 10 Previous Number 9 Sum: 19\n"
     ]
    }
   ],
   "source": [
    "for i in range(1,11):\n",
    "    sum = i + (i-1)\n",
    "    print(\"Current Number \" + str(i) + \" Previous Number \" + str(i-1) + \" Sum: \" + str(sum))\n",
    "    sum = 0\n",
    "     "
   ]
  },
  {
   "cell_type": "code",
   "execution_count": 5,
   "id": "edb965b6",
   "metadata": {},
   "outputs": [
    {
     "name": "stdout",
     "output_type": "stream",
     "text": [
      "[10, 20, 55]\n"
     ]
    }
   ],
   "source": [
    "num_list = [10,20,33,46,55]\n",
    "new_list = []\n",
    "for num in num_list:\n",
    "    if num % 5 == 0:\n",
    "        new_list.append(num)\n",
    "print(new_list)\n",
    "            "
   ]
  },
  {
   "cell_type": "code",
   "execution_count": 6,
   "id": "e67fa695",
   "metadata": {},
   "outputs": [
    {
     "name": "stdout",
     "output_type": "stream",
     "text": [
      "Enter the number: 3\n",
      "3 is a prime number\n"
     ]
    }
   ],
   "source": [
    "number = int(input(\"Enter the number: \"))\n",
    "if number > 1:\n",
    "    for i in range(2, int(number/2)+1):\n",
    "        if number % i == 0:\n",
    "            print(str(number) + \" is not a prime number\")\n",
    "            break\n",
    "    else:\n",
    "        print(str(number) + \" is a prime number\")\n",
    "else:\n",
    "    print(str(number) + \" is not a prime number\")"
   ]
  },
  {
   "cell_type": "code",
   "execution_count": 7,
   "id": "b9ef8973",
   "metadata": {},
   "outputs": [
    {
     "name": "stdout",
     "output_type": "stream",
     "text": [
      "[70, 30, 40, 10]\n"
     ]
    }
   ],
   "source": [
    "number_list = [10,40,30,70]\n",
    "\n",
    "reversed_list = []\n",
    "\n",
    "for i in range(len(number_list)):\n",
    "    reversed_list.append(number_list[len(number_list) - i - 1])\n",
    "    \n",
    "print(reversed_list)\n",
    "    \n",
    "\n"
   ]
  },
  {
   "cell_type": "code",
   "execution_count": 8,
   "id": "60dca9ca",
   "metadata": {},
   "outputs": [
    {
     "name": "stdout",
     "output_type": "stream",
     "text": [
      "* \r\n",
      "* * \r\n",
      "* * * \r\n",
      "* * * * \r\n"
     ]
    }
   ],
   "source": [
    "rows = 4\n",
    "for i in range(0,rows):\n",
    "    for j in range(0,i+1):\n",
    "        print(\"*\", end=' ')\n",
    "    print(\"\\r\")"
   ]
  },
  {
   "cell_type": "code",
   "execution_count": 9,
   "id": "1ad9c530",
   "metadata": {},
   "outputs": [
    {
     "name": "stdout",
     "output_type": "stream",
     "text": [
      "Enter the first number 34\n",
      "Enter the second number 12\n",
      "Enter the third number 7\n",
      "34\n"
     ]
    }
   ],
   "source": [
    "num1 = int(input('Enter the first number '))\n",
    "num2 = int(input('Enter the second number '))\n",
    "num3 = int(input('Enter the third number '))\n",
    "\n",
    "if num1 >= num2 and num1 >= num3:\n",
    "    largest = num1\n",
    "elif num2 >= num1 and num2 >= num3:\n",
    "    largest = num2\n",
    "else:\n",
    "    largest = num3\n",
    "print(largest)"
   ]
  },
  {
   "cell_type": "code",
   "execution_count": 10,
   "id": "0f20c82a",
   "metadata": {},
   "outputs": [
    {
     "name": "stdout",
     "output_type": "stream",
     "text": [
      "* \r\n",
      "* * \r\n",
      "* * * \r\n",
      "* * * * \r\n",
      "* * * * * \r\n",
      "* * * * \r\n",
      "* * * \r\n",
      "* * \r\n",
      "* \r\n",
      "\r\n"
     ]
    }
   ],
   "source": [
    "rows = 5\n",
    "for i in range(0, rows):\n",
    "    for j in range(0, i + 1):\n",
    "        print(\"*\", end=' ')\n",
    "    print(\"\\r\")\n",
    "\n",
    "for i in range(rows, 0, -1):\n",
    "    for j in range(0, i - 1):\n",
    "        print(\"*\", end=' ')\n",
    "    print(\"\\r\")"
   ]
  },
  {
   "cell_type": "code",
   "execution_count": null,
   "id": "05fb8bc6",
   "metadata": {},
   "outputs": [],
   "source": []
  }
 ],
 "metadata": {
  "kernelspec": {
   "display_name": "Python 3 (ipykernel)",
   "language": "python",
   "name": "python3"
  },
  "language_info": {
   "codemirror_mode": {
    "name": "ipython",
    "version": 3
   },
   "file_extension": ".py",
   "mimetype": "text/x-python",
   "name": "python",
   "nbconvert_exporter": "python",
   "pygments_lexer": "ipython3",
   "version": "3.9.13"
  }
 },
 "nbformat": 4,
 "nbformat_minor": 5
}
